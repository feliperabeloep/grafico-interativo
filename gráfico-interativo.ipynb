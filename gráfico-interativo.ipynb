{
 "cells": [
  {
   "cell_type": "code",
   "execution_count": 28,
   "metadata": {},
   "outputs": [],
   "source": [
    "import plotly.express as px, yfinance as yf, numpy as np, pandas as pd"
   ]
  },
  {
   "cell_type": "code",
   "execution_count": null,
   "metadata": {},
   "outputs": [],
   "source": [
    "dados = yf.download(\"BITH11.SA IVVB11.SA\")[\"Adj Close\"].dropna().pct_change().fillna(0) + 1\n",
    "dados = dados.cumprod()\n",
    "dados = dados.reset_index()"
   ]
  },
  {
   "cell_type": "code",
   "execution_count": null,
   "metadata": {},
   "outputs": [],
   "source": [
    "df = pd.DataFrame()\n",
    "for i in np.arange(0, len(dados)):\n",
    "    acum = dados.head(i).copy()\n",
    "    acum['ix'] = i\n",
    "    df = pd.concat([df, acum])\n",
    "\n",
    "df"
   ]
  },
  {
   "cell_type": "code",
   "execution_count": null,
   "metadata": {},
   "outputs": [],
   "source": [
    "fig = px.line(df, x = \"Date\", y = [\"BITH11.SA\", \"IVVB11.SA\"],\n",
    "              animation_frame='ix',\n",
    "              template = 'plotly_dark',\n",
    "              width=1000, height=600)\n",
    "\n",
    "fig.layout.updatemenus[0].buttons[0].args[1]['frame']['duration'] = 15\n",
    "\n",
    "fig.update_yaxes(range=(df[\"BITH11.SA\"].min(), df[\"BITH11.SA\"].max()))\n",
    "fig.update_xaxes(range=(df[\"Date\"].min(), df[\"Date\"].max()))\n",
    "\n",
    "fig.show()"
   ]
  }
 ],
 "metadata": {
  "kernelspec": {
   "display_name": "Python 3",
   "language": "python",
   "name": "python3"
  },
  "language_info": {
   "codemirror_mode": {
    "name": "ipython",
    "version": 3
   },
   "file_extension": ".py",
   "mimetype": "text/x-python",
   "name": "python",
   "nbconvert_exporter": "python",
   "pygments_lexer": "ipython3",
   "version": "3.11.4"
  }
 },
 "nbformat": 4,
 "nbformat_minor": 2
}
